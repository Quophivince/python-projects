{
 "cells": [
  {
   "cell_type": "code",
   "execution_count": 1,
   "id": "df0a60c0-f573-480f-a4e6-e4baf8e50443",
   "metadata": {},
   "outputs": [
    {
     "name": "stdout",
     "output_type": "stream",
     "text": [
      "(2.0, 1.0)\n",
      "(-1.0, -1.0)\n",
      "(1.0, 1.0)\n"
     ]
    }
   ],
   "source": [
    "import numpy as np\n",
    "\n",
    "def solve_quadratic(a, b, c):\n",
    "    \"\"\"\n",
    "    Solves the quadratic equation ax^2 + bx + c = 0.\n",
    "    Returns a tuple containing the two solutions.\n",
    "    \"\"\"\n",
    "    # Calculate the discriminant\n",
    "    discriminant = b**2 - 4*a*c\n",
    "    \n",
    "    # Calculate the two solutions\n",
    "    root1 = (-b + np.sqrt(discriminant)) / (2 * a)\n",
    "    root2 = (-b - np.sqrt(discriminant)) / (2 * a)\n",
    "    \n",
    "    return (root1, root2)\n",
    "\n",
    "def main():\n",
    "    # Test cases\n",
    "    print(solve_quadratic(1, -3, 2))  # Expected output: (2.0, 1.0)\n",
    "    print(solve_quadratic(1, 2, 1))   # Expected output: (-1.0, -1.0)\n",
    "    print(solve_quadratic(2, -4, 2))  # Expected output: (1.0, 1.0)\n",
    "\n",
    "if __name__ == \"__main__\":\n",
    "    main()\n"
   ]
  },
  {
   "cell_type": "code",
   "execution_count": null,
   "id": "53e051b5-57b7-49ef-89ca-f2754d1a9042",
   "metadata": {},
   "outputs": [],
   "source": []
  }
 ],
 "metadata": {
  "kernelspec": {
   "display_name": "Python [conda env:base] *",
   "language": "python",
   "name": "conda-base-py"
  },
  "language_info": {
   "codemirror_mode": {
    "name": "ipython",
    "version": 3
   },
   "file_extension": ".py",
   "mimetype": "text/x-python",
   "name": "python",
   "nbconvert_exporter": "python",
   "pygments_lexer": "ipython3",
   "version": "3.12.7"
  }
 },
 "nbformat": 4,
 "nbformat_minor": 5
}
