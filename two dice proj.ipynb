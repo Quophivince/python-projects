{
 "cells": [
  {
   "cell_type": "code",
   "execution_count": 7,
   "id": "4e6281aa-7436-43ba-86ce-ee5b2aecdd4e",
   "metadata": {},
   "outputs": [
    {
     "name": "stdout",
     "output_type": "stream",
     "text": [
      "(1, 4)\n",
      "(2, 3)\n",
      "(3, 2)\n",
      "(4, 1)\n"
     ]
    }
   ],
   "source": [
    "for die1 in range(1,7):\n",
    "    for die2 in range(1, 7):\n",
    "        if (die1 + die2) == 5:\n",
    "            print(f\"({die1}, {die2})\")"
   ]
  },
  {
   "cell_type": "code",
   "execution_count": null,
   "id": "37a122b4-c917-44d3-b1a3-0dec209c0a20",
   "metadata": {},
   "outputs": [],
   "source": []
  }
 ],
 "metadata": {
  "kernelspec": {
   "display_name": "Python 3 (ipykernel)",
   "language": "python",
   "name": "python3"
  },
  "language_info": {
   "codemirror_mode": {
    "name": "ipython",
    "version": 3
   },
   "file_extension": ".py",
   "mimetype": "text/x-python",
   "name": "python",
   "nbconvert_exporter": "python",
   "pygments_lexer": "ipython3",
   "version": "3.12.4"
  }
 },
 "nbformat": 4,
 "nbformat_minor": 5
}
