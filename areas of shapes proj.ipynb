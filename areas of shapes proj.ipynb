{
 "cells": [
  {
   "cell_type": "code",
   "execution_count": 1,
   "id": "2dc53767-699e-4638-ac56-fa3af3b0c89d",
   "metadata": {},
   "outputs": [
    {
     "name": "stdin",
     "output_type": "stream",
     "text": [
      "Choose a shape (triangle, rectangle, circle):  12\n"
     ]
    },
    {
     "name": "stdout",
     "output_type": "stream",
     "text": [
      "Unknown shape!\n"
     ]
    },
    {
     "name": "stdin",
     "output_type": "stream",
     "text": [
      "Choose a shape (triangle, rectangle, circle):  rectangle\n",
      "Give width of the rectangle:  23\n",
      "Give height of the rectangle:  4\n"
     ]
    },
    {
     "name": "stdout",
     "output_type": "stream",
     "text": [
      "The area is 92.000000\n"
     ]
    },
    {
     "name": "stdin",
     "output_type": "stream",
     "text": [
      "Choose a shape (triangle, rectangle, circle):  circle\n",
      "Give radius of the circle:  4\n"
     ]
    },
    {
     "name": "stdout",
     "output_type": "stream",
     "text": [
      "The area is 50.265482\n"
     ]
    },
    {
     "name": "stdin",
     "output_type": "stream",
     "text": [
      "Choose a shape (triangle, rectangle, circle):  triangle\n",
      "Give base of the triangle:  24\n",
      "Give height of the triangle:  9\n"
     ]
    },
    {
     "name": "stdout",
     "output_type": "stream",
     "text": [
      "The area is 108.000000\n"
     ]
    },
    {
     "name": "stdin",
     "output_type": "stream",
     "text": [
      "Choose a shape (triangle, rectangle, circle):   \n"
     ]
    }
   ],
   "source": [
    "#!/usr/bin/env python3\n",
    "\n",
    "import math\n",
    "\n",
    "def main():\n",
    "    while True:\n",
    "        # Prompt the user to choose a shape\n",
    "        shape = input(\"Choose a shape (triangle, rectangle, circle): \").strip().lower()\n",
    "\n",
    "        # Exit the loop if the input is empty\n",
    "        if shape == \"\":\n",
    "            break\n",
    "\n",
    "        # Handle each shape\n",
    "        if shape == \"triangle\":\n",
    "            # Get dimensions for the triangle\n",
    "            base = float(input(\"Give base of the triangle: \"))\n",
    "            height = float(input(\"Give height of the triangle: \"))\n",
    "            # Calculate and print the area\n",
    "            area = 0.5 * base * height\n",
    "            print(f\"The area is {area:.6f}\")\n",
    "\n",
    "        elif shape == \"rectangle\":\n",
    "            # Get dimensions for the rectangle\n",
    "            width = float(input(\"Give width of the rectangle: \"))\n",
    "            height = float(input(\"Give height of the rectangle: \"))\n",
    "            # Calculate and print the area\n",
    "            area = width * height\n",
    "            print(f\"The area is {area:.6f}\")\n",
    "\n",
    "        elif shape == \"circle\":\n",
    "            # Get dimensions for the circle\n",
    "            radius = float(input(\"Give radius of the circle: \"))\n",
    "            # Calculate and print the area\n",
    "            area = math.pi * radius ** 2\n",
    "            print(f\"The area is {area:.6f}\")\n",
    "\n",
    "        else:\n",
    "            # Handle unknown shape\n",
    "            print(\"Unknown shape!\")\n",
    "\n",
    "if __name__ == \"__main__\":\n",
    "    main()\n",
    "\n"
   ]
  }
 ],
 "metadata": {
  "kernelspec": {
   "display_name": "Python [conda env:base] *",
   "language": "python",
   "name": "conda-base-py"
  },
  "language_info": {
   "codemirror_mode": {
    "name": "ipython",
    "version": 3
   },
   "file_extension": ".py",
   "mimetype": "text/x-python",
   "name": "python",
   "nbconvert_exporter": "python",
   "pygments_lexer": "ipython3",
   "version": "3.12.7"
  }
 },
 "nbformat": 4,
 "nbformat_minor": 5
}
