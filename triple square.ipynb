{
 "cells": [
  {
   "cell_type": "code",
   "execution_count": 2,
   "id": "a0ba65f4-6fbe-4b2f-9147-a6a4239cb31d",
   "metadata": {},
   "outputs": [
    {
     "name": "stdout",
     "output_type": "stream",
     "text": [
      "triple(1)==3 square(1)==1\n",
      "triple(2)==6 square(2)==4\n",
      "triple(3)==9 square(3)==9\n"
     ]
    }
   ],
   "source": [
    "def triple(number):\n",
    "    #function to triple values\n",
    "    return (number * 3)\n",
    "    \n",
    "def square(number):\n",
    "    #function to square values\n",
    "    return (number ** 2)\n",
    "    \n",
    "def main():\n",
    "    #iterate through 1 to 10\n",
    "    for x in range(1, 11):\n",
    "        #computes triple and square of numbers\n",
    "          t = triple(x)\n",
    "          s = square(x)\n",
    "        #stop iteration if square is larger than triple\n",
    "          if s > t:\n",
    "              break\n",
    "        #print results of triples and squares\n",
    "          print(f\"triple({x})=={t} square({x})=={s}\")\n",
    "\n",
    "main()\n",
    "        "
   ]
  }
 ],
 "metadata": {
  "kernelspec": {
   "display_name": "Python 3 (ipykernel)",
   "language": "python",
   "name": "python3"
  },
  "language_info": {
   "codemirror_mode": {
    "name": "ipython",
    "version": 3
   },
   "file_extension": ".py",
   "mimetype": "text/x-python",
   "name": "python",
   "nbconvert_exporter": "python",
   "pygments_lexer": "ipython3",
   "version": "3.12.7"
  }
 },
 "nbformat": 4,
 "nbformat_minor": 5
}
